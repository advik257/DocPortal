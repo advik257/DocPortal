{
 "cells": [
  {
   "cell_type": "code",
   "execution_count": 8,
   "id": "871318d5",
   "metadata": {},
   "outputs": [],
   "source": [
    "import sys\n",
    "import os\n",
    "import traceback\n",
    "import logging"
   ]
  },
  {
   "cell_type": "code",
   "execution_count": 9,
   "id": "56c2194d",
   "metadata": {},
   "outputs": [
    {
     "name": "stdout",
     "output_type": "stream",
     "text": [
      "Added to Python path: e:\\LLMProjects\\documentportal\n"
     ]
    }
   ],
   "source": [
    "import sys\n",
    "import os\n",
    "\n",
    "# Get the project root directory (going up one level from the notebook directory)\n",
    "project_root = os.path.abspath(os.path.join(os.getcwd(), '..'))\n",
    "sys.path.append(project_root)\n",
    "print(f\"Added to Python path: {project_root}\")"
   ]
  },
  {
   "cell_type": "code",
   "execution_count": 10,
   "id": "40a59518",
   "metadata": {},
   "outputs": [],
   "source": [
    "from logger.custom_logger import CustomLogger"
   ]
  },
  {
   "cell_type": "code",
   "execution_count": 11,
   "id": "a8d894ba",
   "metadata": {},
   "outputs": [],
   "source": [
    "logger = CustomLogger().get_logger(\"exception_experiment\")"
   ]
  },
  {
   "cell_type": "code",
   "execution_count": 12,
   "id": "257e3cf3",
   "metadata": {},
   "outputs": [
    {
     "ename": "DocumentPortalException",
     "evalue": "\n               Error occurred in script: C:\\Users\\Venkatesh\\AppData\\Local\\Temp\\ipykernel_5620\\2836657237.py \n               at line number: 21 \n               with message: division by zero\nTraceback:\nTraceback (most recent call last):\n  File \"C:\\Users\\Venkatesh\\AppData\\Local\\Temp\\ipykernel_5620\\2836657237.py\", line 21, in <module>\n    a = 1 / 0\n        ~~^~~\nZeroDivisionError: division by zero\n\n               Traceback: Traceback (most recent call last):\n  File \"C:\\Users\\Venkatesh\\AppData\\Local\\Temp\\ipykernel_5620\\2836657237.py\", line 21, in <module>\n    a = 1 / 0\n        ~~^~~\nZeroDivisionError: division by zero\n",
     "output_type": "error",
     "traceback": [
      "\u001b[31m---------------------------------------------------------------------------\u001b[39m",
      "\u001b[31mZeroDivisionError\u001b[39m                         Traceback (most recent call last)",
      "\u001b[36mCell\u001b[39m\u001b[36m \u001b[39m\u001b[32mIn[12]\u001b[39m\u001b[32m, line 21\u001b[39m\n\u001b[32m     20\u001b[39m \u001b[38;5;28;01mtry\u001b[39;00m:\n\u001b[32m---> \u001b[39m\u001b[32m21\u001b[39m     a = \u001b[32;43m1\u001b[39;49m\u001b[43m \u001b[49m\u001b[43m/\u001b[49m\u001b[43m \u001b[49m\u001b[32;43m0\u001b[39;49m\n\u001b[32m     22\u001b[39m \u001b[38;5;28;01mexcept\u001b[39;00m \u001b[38;5;167;01mException\u001b[39;00m \u001b[38;5;28;01mas\u001b[39;00m e:\n",
      "\u001b[31mZeroDivisionError\u001b[39m: division by zero",
      "\nDuring handling of the above exception, another exception occurred:\n",
      "\u001b[31mDocumentPortalException\u001b[39m                   Traceback (most recent call last)",
      "\u001b[36mCell\u001b[39m\u001b[36m \u001b[39m\u001b[32mIn[12]\u001b[39m\u001b[32m, line 25\u001b[39m\n\u001b[32m     23\u001b[39m appexc=DocumentPortalException(e, sys)\n\u001b[32m     24\u001b[39m logger.error(appexc)\n\u001b[32m---> \u001b[39m\u001b[32m25\u001b[39m \u001b[38;5;28;01mraise\u001b[39;00m appexc\n",
      "\u001b[31mDocumentPortalException\u001b[39m: \n               Error occurred in script: C:\\Users\\Venkatesh\\AppData\\Local\\Temp\\ipykernel_5620\\2836657237.py \n               at line number: 21 \n               with message: division by zero\nTraceback:\nTraceback (most recent call last):\n  File \"C:\\Users\\Venkatesh\\AppData\\Local\\Temp\\ipykernel_5620\\2836657237.py\", line 21, in <module>\n    a = 1 / 0\n        ~~^~~\nZeroDivisionError: division by zero\n\n               Traceback: Traceback (most recent call last):\n  File \"C:\\Users\\Venkatesh\\AppData\\Local\\Temp\\ipykernel_5620\\2836657237.py\", line 21, in <module>\n    a = 1 / 0\n        ~~^~~\nZeroDivisionError: division by zero\n"
     ]
    }
   ],
   "source": [
    "class DocumentPortalException(Exception):\n",
    "    \n",
    "    def __init__(self, error_message, error_detail: sys):\n",
    "          _,_,exc_tb=error_detail.exc_info()\n",
    "          self.filename = exc_tb.tb_frame.f_code.co_filename\n",
    "          self.lineno = exc_tb.tb_lineno\n",
    "          self.error_message=str(error_message)\n",
    "          self.traceback_str = ''.join(traceback.format_exception(*error_detail.exc_info()))\n",
    "      \n",
    "        \n",
    "    def __str__(self):\n",
    "        return f\"\"\"\n",
    "               Error occurred in script: {self.filename} \n",
    "               at line number: {self.lineno} \n",
    "               with message: {self.error_message}\\nTraceback:\\n{self.traceback_str}\n",
    "               Traceback: {self.traceback_str}\"\"\"\n",
    "    \n",
    "\n",
    "if __name__ == \"__main__\":\n",
    "    try:\n",
    "        a = 1 / 0\n",
    "    except Exception as e:\n",
    "        appexc=DocumentPortalException(e, sys)\n",
    "        logger.error(appexc)\n",
    "        raise appexc\n",
    "        "
   ]
  },
  {
   "cell_type": "code",
   "execution_count": null,
   "id": "e2ef115a",
   "metadata": {},
   "outputs": [],
   "source": []
  },
  {
   "cell_type": "code",
   "execution_count": null,
   "id": "9504081b",
   "metadata": {},
   "outputs": [],
   "source": []
  },
  {
   "cell_type": "code",
   "execution_count": null,
   "metadata": {},
   "outputs": [],
   "source": [
    "      "
   ]
  },
  {
   "cell_type": "code",
   "execution_count": null,
   "id": "c8a2a9ef",
   "metadata": {},
   "outputs": [],
   "source": []
  },
  {
   "cell_type": "code",
   "execution_count": null,
   "id": "4f093e31",
   "metadata": {},
   "outputs": [],
   "source": []
  },
  {
   "cell_type": "code",
   "execution_count": null,
   "id": "00222db3",
   "metadata": {},
   "outputs": [],
   "source": []
  },
  {
   "cell_type": "code",
   "execution_count": null,
   "id": "6cd79ce2",
   "metadata": {},
   "outputs": [],
   "source": []
  },
  {
   "cell_type": "code",
   "execution_count": null,
   "id": "8b9d9f81",
   "metadata": {},
   "outputs": [],
   "source": []
  },
  {
   "cell_type": "code",
   "execution_count": null,
   "id": "35a29508",
   "metadata": {},
   "outputs": [],
   "source": []
  },
  {
   "cell_type": "code",
   "execution_count": null,
   "id": "233cd281",
   "metadata": {},
   "outputs": [],
   "source": []
  }
 ],
 "metadata": {
  "kernelspec": {
   "display_name": "venv",
   "language": "python",
   "name": "python3"
  },
  "language_info": {
   "codemirror_mode": {
    "name": "ipython",
    "version": 3
   },
   "file_extension": ".py",
   "mimetype": "text/x-python",
   "name": "python",
   "nbconvert_exporter": "python",
   "pygments_lexer": "ipython3",
   "version": "3.13.7"
  }
 },
 "nbformat": 4,
 "nbformat_minor": 5
}
